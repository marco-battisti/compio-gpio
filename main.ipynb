{
 "cells": [
  {
   "cell_type": "code",
   "execution_count": 4,
   "metadata": {},
   "outputs": [
    {
     "name": "stdout",
     "output_type": "stream",
     "text": [
      "[1, 2, 3, 4, 5, 6, 7, 8, 9, 10, 11, 12, 13, 14, 15, 16, 17, 18, 19, 20, 21, 22, 23, 24, 25, 26, 27, 28, 29, 0]\n",
      "['Belgium' 'Bulgaria' 'Czechia' 'Denmark' 'Germany' 'Estonia' 'Ireland'\n",
      " 'Greece' 'Spain' 'France' 'Croatia' 'Italy' 'Latvia' 'Lithuania'\n",
      " 'Luxembourg' 'Hungary' 'Netherlands' 'Austria' 'Poland' 'Portugal'\n",
      " 'Romania' 'Slovenia' 'Slovakia' 'Finland' 'Sweden' 'Iceland' 'Norway'\n",
      " 'Switzerland' 'United Kingdom'\n",
      " 'European Union - 27 countries (from 2020)']\n"
     ]
    },
    {
     "data": {
      "application/vnd.plotly.v1+json": {
       "config": {
        "plotlyServerURL": "https://plot.ly"
       },
       "data": [
        {
         "coloraxis": "coloraxis",
         "geo": "geo",
         "hovertemplate": "<b>%{hovertext}</b><br><br>Countries=%{location}<br>2017=%{z}<extra></extra>",
         "hovertext": [
          "Belgium"
         ],
         "ids": [
          "Belgium"
         ],
         "locationmode": "country names",
         "locations": [
          "Belgium"
         ],
         "name": "",
         "type": "choropleth",
         "z": [
          70895
         ]
        }
       ],
       "frames": [
        {
         "data": [
          {
           "coloraxis": "coloraxis",
           "geo": "geo",
           "hovertemplate": "<b>%{hovertext}</b><br><br>Countries=%{location}<br>2017=%{z}<extra></extra>",
           "hovertext": [
            "Belgium"
           ],
           "ids": [
            "Belgium"
           ],
           "locationmode": "country names",
           "locations": [
            "Belgium"
           ],
           "name": "",
           "type": "choropleth",
           "z": [
            70895
           ]
          }
         ],
         "layout": {
          "title": {
           "font": {
            "color": "black",
            "family": "Sherif",
            "size": 40
           },
           "text": " <br> Numeri di casi di incidenti da contatto sul lavoro a cause di oggetti e agenti materiali <br> Belgium <br> 70895 casi totali"
          }
         },
         "name": "Belgium"
        },
        {
         "data": [
          {
           "coloraxis": "coloraxis",
           "geo": "geo",
           "hovertemplate": "<b>%{hovertext}</b><br><br>Countries=%{location}<br>2017=%{z}<extra></extra>",
           "hovertext": [
            "Bulgaria"
           ],
           "ids": [
            "Bulgaria"
           ],
           "locationmode": "country names",
           "locations": [
            "Bulgaria"
           ],
           "name": "",
           "type": "choropleth",
           "z": [
            2230
           ]
          }
         ],
         "layout": {
          "title": {
           "font": {
            "color": "black",
            "family": "Sherif",
            "size": 40
           },
           "text": " <br> Numeri di casi di incidenti da contatto sul lavoro a cause di oggetti e agenti materiali <br> Bulgaria <br> 2230 casi totali"
          }
         },
         "name": "Bulgaria"
        },
        {
         "data": [
          {
           "coloraxis": "coloraxis",
           "geo": "geo",
           "hovertemplate": "<b>%{hovertext}</b><br><br>Countries=%{location}<br>2017=%{z}<extra></extra>",
           "hovertext": [
            "Czechia"
           ],
           "ids": [
            "Czechia"
           ],
           "locationmode": "country names",
           "locations": [
            "Czechia"
           ],
           "name": "",
           "type": "choropleth",
           "z": [
            45009
           ]
          }
         ],
         "layout": {
          "title": {
           "font": {
            "color": "black",
            "family": "Sherif",
            "size": 40
           },
           "text": " <br> Numeri di casi di incidenti da contatto sul lavoro a cause di oggetti e agenti materiali <br> Czechia <br> 45009 casi totali"
          }
         },
         "name": "Czechia"
        },
        {
         "data": [
          {
           "coloraxis": "coloraxis",
           "geo": "geo",
           "hovertemplate": "<b>%{hovertext}</b><br><br>Countries=%{location}<br>2017=%{z}<extra></extra>",
           "hovertext": [
            "Denmark"
           ],
           "ids": [
            "Denmark"
           ],
           "locationmode": "country names",
           "locations": [
            "Denmark"
           ],
           "name": "",
           "type": "choropleth",
           "z": [
            48842
           ]
          }
         ],
         "layout": {
          "title": {
           "font": {
            "color": "black",
            "family": "Sherif",
            "size": 40
           },
           "text": " <br> Numeri di casi di incidenti da contatto sul lavoro a cause di oggetti e agenti materiali <br> Denmark <br> 48842 casi totali"
          }
         },
         "name": "Denmark"
        },
        {
         "data": [
          {
           "coloraxis": "coloraxis",
           "geo": "geo",
           "hovertemplate": "<b>%{hovertext}</b><br><br>Countries=%{location}<br>2017=%{z}<extra></extra>",
           "hovertext": [
            "Germany"
           ],
           "ids": [
            "Germany"
           ],
           "locationmode": "country names",
           "locations": [
            "Germany"
           ],
           "name": "",
           "type": "choropleth",
           "z": [
            878525
           ]
          }
         ],
         "layout": {
          "title": {
           "font": {
            "color": "black",
            "family": "Sherif",
            "size": 40
           },
           "text": " <br> Numeri di casi di incidenti da contatto sul lavoro a cause di oggetti e agenti materiali <br> Germany <br> 878525 casi totali"
          }
         },
         "name": "Germany"
        },
        {
         "data": [
          {
           "coloraxis": "coloraxis",
           "geo": "geo",
           "hovertemplate": "<b>%{hovertext}</b><br><br>Countries=%{location}<br>2017=%{z}<extra></extra>",
           "hovertext": [
            "Estonia"
           ],
           "ids": [
            "Estonia"
           ],
           "locationmode": "country names",
           "locations": [
            "Estonia"
           ],
           "name": "",
           "type": "choropleth",
           "z": [
            6279
           ]
          }
         ],
         "layout": {
          "title": {
           "font": {
            "color": "black",
            "family": "Sherif",
            "size": 40
           },
           "text": " <br> Numeri di casi di incidenti da contatto sul lavoro a cause di oggetti e agenti materiali <br> Estonia <br> 6279 casi totali"
          }
         },
         "name": "Estonia"
        },
        {
         "data": [
          {
           "coloraxis": "coloraxis",
           "geo": "geo",
           "hovertemplate": "<b>%{hovertext}</b><br><br>Countries=%{location}<br>2017=%{z}<extra></extra>",
           "hovertext": [
            "Ireland"
           ],
           "ids": [
            "Ireland"
           ],
           "locationmode": "country names",
           "locations": [
            "Ireland"
           ],
           "name": "",
           "type": "choropleth",
           "z": [
            22125
           ]
          }
         ],
         "layout": {
          "title": {
           "font": {
            "color": "black",
            "family": "Sherif",
            "size": 40
           },
           "text": " <br> Numeri di casi di incidenti da contatto sul lavoro a cause di oggetti e agenti materiali <br> Ireland <br> 22125 casi totali"
          }
         },
         "name": "Ireland"
        },
        {
         "data": [
          {
           "coloraxis": "coloraxis",
           "geo": "geo",
           "hovertemplate": "<b>%{hovertext}</b><br><br>Countries=%{location}<br>2017=%{z}<extra></extra>",
           "hovertext": [
            "Greece"
           ],
           "ids": [
            "Greece"
           ],
           "locationmode": "country names",
           "locations": [
            "Greece"
           ],
           "name": "",
           "type": "choropleth",
           "z": [
            4223
           ]
          }
         ],
         "layout": {
          "title": {
           "font": {
            "color": "black",
            "family": "Sherif",
            "size": 40
           },
           "text": " <br> Numeri di casi di incidenti da contatto sul lavoro a cause di oggetti e agenti materiali <br> Greece <br> 4223 casi totali"
          }
         },
         "name": "Greece"
        },
        {
         "data": [
          {
           "coloraxis": "coloraxis",
           "geo": "geo",
           "hovertemplate": "<b>%{hovertext}</b><br><br>Countries=%{location}<br>2017=%{z}<extra></extra>",
           "hovertext": [
            "Spain"
           ],
           "ids": [
            "Spain"
           ],
           "locationmode": "country names",
           "locations": [
            "Spain"
           ],
           "name": "",
           "type": "choropleth",
           "z": [
            453437
           ]
          }
         ],
         "layout": {
          "title": {
           "font": {
            "color": "black",
            "family": "Sherif",
            "size": 40
           },
           "text": " <br> Numeri di casi di incidenti da contatto sul lavoro a cause di oggetti e agenti materiali <br> Spain <br> 453437 casi totali"
          }
         },
         "name": "Spain"
        },
        {
         "data": [
          {
           "coloraxis": "coloraxis",
           "geo": "geo",
           "hovertemplate": "<b>%{hovertext}</b><br><br>Countries=%{location}<br>2017=%{z}<extra></extra>",
           "hovertext": [
            "France"
           ],
           "ids": [
            "France"
           ],
           "locationmode": "country names",
           "locations": [
            "France"
           ],
           "name": "",
           "type": "choropleth",
           "z": [
            753156
           ]
          }
         ],
         "layout": {
          "title": {
           "font": {
            "color": "black",
            "family": "Sherif",
            "size": 40
           },
           "text": " <br> Numeri di casi di incidenti da contatto sul lavoro a cause di oggetti e agenti materiali <br> France <br> 753156 casi totali"
          }
         },
         "name": "France"
        },
        {
         "data": [
          {
           "coloraxis": "coloraxis",
           "geo": "geo",
           "hovertemplate": "<b>%{hovertext}</b><br><br>Countries=%{location}<br>2017=%{z}<extra></extra>",
           "hovertext": [
            "Croatia"
           ],
           "ids": [
            "Croatia"
           ],
           "locationmode": "country names",
           "locations": [
            "Croatia"
           ],
           "name": "",
           "type": "choropleth",
           "z": [
            14164
           ]
          }
         ],
         "layout": {
          "title": {
           "font": {
            "color": "black",
            "family": "Sherif",
            "size": 40
           },
           "text": " <br> Numeri di casi di incidenti da contatto sul lavoro a cause di oggetti e agenti materiali <br> Croatia <br> 14164 casi totali"
          }
         },
         "name": "Croatia"
        },
        {
         "data": [
          {
           "coloraxis": "coloraxis",
           "geo": "geo",
           "hovertemplate": "<b>%{hovertext}</b><br><br>Countries=%{location}<br>2017=%{z}<extra></extra>",
           "hovertext": [
            "Italy"
           ],
           "ids": [
            "Italy"
           ],
           "locationmode": "country names",
           "locations": [
            "Italy"
           ],
           "name": "",
           "type": "choropleth",
           "z": [
            294161
           ]
          }
         ],
         "layout": {
          "title": {
           "font": {
            "color": "black",
            "family": "Sherif",
            "size": 40
           },
           "text": " <br> Numeri di casi di incidenti da contatto sul lavoro a cause di oggetti e agenti materiali <br> Italy <br> 294161 casi totali"
          }
         },
         "name": "Italy"
        },
        {
         "data": [
          {
           "coloraxis": "coloraxis",
           "geo": "geo",
           "hovertemplate": "<b>%{hovertext}</b><br><br>Countries=%{location}<br>2017=%{z}<extra></extra>",
           "hovertext": [
            "Latvia"
           ],
           "ids": [
            "Latvia"
           ],
           "locationmode": "country names",
           "locations": [
            "Latvia"
           ],
           "name": "",
           "type": "choropleth",
           "z": [
            1895
           ]
          }
         ],
         "layout": {
          "title": {
           "font": {
            "color": "black",
            "family": "Sherif",
            "size": 40
           },
           "text": " <br> Numeri di casi di incidenti da contatto sul lavoro a cause di oggetti e agenti materiali <br> Latvia <br> 1895 casi totali"
          }
         },
         "name": "Latvia"
        },
        {
         "data": [
          {
           "coloraxis": "coloraxis",
           "geo": "geo",
           "hovertemplate": "<b>%{hovertext}</b><br><br>Countries=%{location}<br>2017=%{z}<extra></extra>",
           "hovertext": [
            "Lithuania"
           ],
           "ids": [
            "Lithuania"
           ],
           "locationmode": "country names",
           "locations": [
            "Lithuania"
           ],
           "name": "",
           "type": "choropleth",
           "z": [
            3977
           ]
          }
         ],
         "layout": {
          "title": {
           "font": {
            "color": "black",
            "family": "Sherif",
            "size": 40
           },
           "text": " <br> Numeri di casi di incidenti da contatto sul lavoro a cause di oggetti e agenti materiali <br> Lithuania <br> 3977 casi totali"
          }
         },
         "name": "Lithuania"
        },
        {
         "data": [
          {
           "coloraxis": "coloraxis",
           "geo": "geo",
           "hovertemplate": "<b>%{hovertext}</b><br><br>Countries=%{location}<br>2017=%{z}<extra></extra>",
           "hovertext": [
            "Luxembourg"
           ],
           "ids": [
            "Luxembourg"
           ],
           "locationmode": "country names",
           "locations": [
            "Luxembourg"
           ],
           "name": "",
           "type": "choropleth",
           "z": [
            6684
           ]
          }
         ],
         "layout": {
          "title": {
           "font": {
            "color": "black",
            "family": "Sherif",
            "size": 40
           },
           "text": " <br> Numeri di casi di incidenti da contatto sul lavoro a cause di oggetti e agenti materiali <br> Luxembourg <br> 6684 casi totali"
          }
         },
         "name": "Luxembourg"
        },
        {
         "data": [
          {
           "coloraxis": "coloraxis",
           "geo": "geo",
           "hovertemplate": "<b>%{hovertext}</b><br><br>Countries=%{location}<br>2017=%{z}<extra></extra>",
           "hovertext": [
            "Hungary"
           ],
           "ids": [
            "Hungary"
           ],
           "locationmode": "country names",
           "locations": [
            "Hungary"
           ],
           "name": "",
           "type": "choropleth",
           "z": [
            25470
           ]
          }
         ],
         "layout": {
          "title": {
           "font": {
            "color": "black",
            "family": "Sherif",
            "size": 40
           },
           "text": " <br> Numeri di casi di incidenti da contatto sul lavoro a cause di oggetti e agenti materiali <br> Hungary <br> 25470 casi totali"
          }
         },
         "name": "Hungary"
        },
        {
         "data": [
          {
           "coloraxis": "coloraxis",
           "geo": "geo",
           "hovertemplate": "<b>%{hovertext}</b><br><br>Countries=%{location}<br>2017=%{z}<extra></extra>",
           "hovertext": [
            "Netherlands"
           ],
           "ids": [
            "Netherlands"
           ],
           "locationmode": "country names",
           "locations": [
            "Netherlands"
           ],
           "name": "",
           "type": "choropleth",
           "z": [
            93305
           ]
          }
         ],
         "layout": {
          "title": {
           "font": {
            "color": "black",
            "family": "Sherif",
            "size": 40
           },
           "text": " <br> Numeri di casi di incidenti da contatto sul lavoro a cause di oggetti e agenti materiali <br> Netherlands <br> 93305 casi totali"
          }
         },
         "name": "Netherlands"
        },
        {
         "data": [
          {
           "coloraxis": "coloraxis",
           "geo": "geo",
           "hovertemplate": "<b>%{hovertext}</b><br><br>Countries=%{location}<br>2017=%{z}<extra></extra>",
           "hovertext": [
            "Austria"
           ],
           "ids": [
            "Austria"
           ],
           "locationmode": "country names",
           "locations": [
            "Austria"
           ],
           "name": "",
           "type": "choropleth",
           "z": [
            63993
           ]
          }
         ],
         "layout": {
          "title": {
           "font": {
            "color": "black",
            "family": "Sherif",
            "size": 40
           },
           "text": " <br> Numeri di casi di incidenti da contatto sul lavoro a cause di oggetti e agenti materiali <br> Austria <br> 63993 casi totali"
          }
         },
         "name": "Austria"
        },
        {
         "data": [
          {
           "coloraxis": "coloraxis",
           "geo": "geo",
           "hovertemplate": "<b>%{hovertext}</b><br><br>Countries=%{location}<br>2017=%{z}<extra></extra>",
           "hovertext": [
            "Poland"
           ],
           "ids": [
            "Poland"
           ],
           "locationmode": "country names",
           "locations": [
            "Poland"
           ],
           "name": "",
           "type": "choropleth",
           "z": [
            84388
           ]
          }
         ],
         "layout": {
          "title": {
           "font": {
            "color": "black",
            "family": "Sherif",
            "size": 40
           },
           "text": " <br> Numeri di casi di incidenti da contatto sul lavoro a cause di oggetti e agenti materiali <br> Poland <br> 84388 casi totali"
          }
         },
         "name": "Poland"
        },
        {
         "data": [
          {
           "coloraxis": "coloraxis",
           "geo": "geo",
           "hovertemplate": "<b>%{hovertext}</b><br><br>Countries=%{location}<br>2017=%{z}<extra></extra>",
           "hovertext": [
            "Portugal"
           ],
           "ids": [
            "Portugal"
           ],
           "locationmode": "country names",
           "locations": [
            "Portugal"
           ],
           "name": "",
           "type": "choropleth",
           "z": [
            135488
           ]
          }
         ],
         "layout": {
          "title": {
           "font": {
            "color": "black",
            "family": "Sherif",
            "size": 40
           },
           "text": " <br> Numeri di casi di incidenti da contatto sul lavoro a cause di oggetti e agenti materiali <br> Portugal <br> 135488 casi totali"
          }
         },
         "name": "Portugal"
        },
        {
         "data": [
          {
           "coloraxis": "coloraxis",
           "geo": "geo",
           "hovertemplate": "<b>%{hovertext}</b><br><br>Countries=%{location}<br>2017=%{z}<extra></extra>",
           "hovertext": [
            "Romania"
           ],
           "ids": [
            "Romania"
           ],
           "locationmode": "country names",
           "locations": [
            "Romania"
           ],
           "name": "",
           "type": "choropleth",
           "z": [
            4491
           ]
          }
         ],
         "layout": {
          "title": {
           "font": {
            "color": "black",
            "family": "Sherif",
            "size": 40
           },
           "text": " <br> Numeri di casi di incidenti da contatto sul lavoro a cause di oggetti e agenti materiali <br> Romania <br> 4491 casi totali"
          }
         },
         "name": "Romania"
        },
        {
         "data": [
          {
           "coloraxis": "coloraxis",
           "geo": "geo",
           "hovertemplate": "<b>%{hovertext}</b><br><br>Countries=%{location}<br>2017=%{z}<extra></extra>",
           "hovertext": [
            "Slovenia"
           ],
           "ids": [
            "Slovenia"
           ],
           "locationmode": "country names",
           "locations": [
            "Slovenia"
           ],
           "name": "",
           "type": "choropleth",
           "z": [
            13288
           ]
          }
         ],
         "layout": {
          "title": {
           "font": {
            "color": "black",
            "family": "Sherif",
            "size": 40
           },
           "text": " <br> Numeri di casi di incidenti da contatto sul lavoro a cause di oggetti e agenti materiali <br> Slovenia <br> 13288 casi totali"
          }
         },
         "name": "Slovenia"
        },
        {
         "data": [
          {
           "coloraxis": "coloraxis",
           "geo": "geo",
           "hovertemplate": "<b>%{hovertext}</b><br><br>Countries=%{location}<br>2017=%{z}<extra></extra>",
           "hovertext": [
            "Slovakia"
           ],
           "ids": [
            "Slovakia"
           ],
           "locationmode": "country names",
           "locations": [
            "Slovakia"
           ],
           "name": "",
           "type": "choropleth",
           "z": [
            10091
           ]
          }
         ],
         "layout": {
          "title": {
           "font": {
            "color": "black",
            "family": "Sherif",
            "size": 40
           },
           "text": " <br> Numeri di casi di incidenti da contatto sul lavoro a cause di oggetti e agenti materiali <br> Slovakia <br> 10091 casi totali"
          }
         },
         "name": "Slovakia"
        },
        {
         "data": [
          {
           "coloraxis": "coloraxis",
           "geo": "geo",
           "hovertemplate": "<b>%{hovertext}</b><br><br>Countries=%{location}<br>2017=%{z}<extra></extra>",
           "hovertext": [
            "Finland"
           ],
           "ids": [
            "Finland"
           ],
           "locationmode": "country names",
           "locations": [
            "Finland"
           ],
           "name": "",
           "type": "choropleth",
           "z": [
            42025
           ]
          }
         ],
         "layout": {
          "title": {
           "font": {
            "color": "black",
            "family": "Sherif",
            "size": 40
           },
           "text": " <br> Numeri di casi di incidenti da contatto sul lavoro a cause di oggetti e agenti materiali <br> Finland <br> 42025 casi totali"
          }
         },
         "name": "Finland"
        },
        {
         "data": [
          {
           "coloraxis": "coloraxis",
           "geo": "geo",
           "hovertemplate": "<b>%{hovertext}</b><br><br>Countries=%{location}<br>2017=%{z}<extra></extra>",
           "hovertext": [
            "Sweden"
           ],
           "ids": [
            "Sweden"
           ],
           "locationmode": "country names",
           "locations": [
            "Sweden"
           ],
           "name": "",
           "type": "choropleth",
           "z": [
            36761
           ]
          }
         ],
         "layout": {
          "title": {
           "font": {
            "color": "black",
            "family": "Sherif",
            "size": 40
           },
           "text": " <br> Numeri di casi di incidenti da contatto sul lavoro a cause di oggetti e agenti materiali <br> Sweden <br> 36761 casi totali"
          }
         },
         "name": "Sweden"
        },
        {
         "data": [
          {
           "coloraxis": "coloraxis",
           "geo": "geo",
           "hovertemplate": "<b>%{hovertext}</b><br><br>Countries=%{location}<br>2017=%{z}<extra></extra>",
           "hovertext": [
            "Iceland"
           ],
           "ids": [
            "Iceland"
           ],
           "locationmode": "country names",
           "locations": [
            "Iceland"
           ],
           "name": "",
           "type": "choropleth",
           "z": [
            1307
           ]
          }
         ],
         "layout": {
          "title": {
           "font": {
            "color": "black",
            "family": "Sherif",
            "size": 40
           },
           "text": " <br> Numeri di casi di incidenti da contatto sul lavoro a cause di oggetti e agenti materiali <br> Iceland <br> 1307 casi totali"
          }
         },
         "name": "Iceland"
        },
        {
         "data": [
          {
           "coloraxis": "coloraxis",
           "geo": "geo",
           "hovertemplate": "<b>%{hovertext}</b><br><br>Countries=%{location}<br>2017=%{z}<extra></extra>",
           "hovertext": [
            "Norway"
           ],
           "ids": [
            "Norway"
           ],
           "locationmode": "country names",
           "locations": [
            "Norway"
           ],
           "name": "",
           "type": "choropleth",
           "z": [
            10004
           ]
          }
         ],
         "layout": {
          "title": {
           "font": {
            "color": "black",
            "family": "Sherif",
            "size": 40
           },
           "text": " <br> Numeri di casi di incidenti da contatto sul lavoro a cause di oggetti e agenti materiali <br> Norway <br> 10004 casi totali"
          }
         },
         "name": "Norway"
        },
        {
         "data": [
          {
           "coloraxis": "coloraxis",
           "geo": "geo",
           "hovertemplate": "<b>%{hovertext}</b><br><br>Countries=%{location}<br>2017=%{z}<extra></extra>",
           "hovertext": [
            "Switzerland"
           ],
           "ids": [
            "Switzerland"
           ],
           "locationmode": "country names",
           "locations": [
            "Switzerland"
           ],
           "name": "",
           "type": "choropleth",
           "z": [
            88047
           ]
          }
         ],
         "layout": {
          "title": {
           "font": {
            "color": "black",
            "family": "Sherif",
            "size": 40
           },
           "text": " <br> Numeri di casi di incidenti da contatto sul lavoro a cause di oggetti e agenti materiali <br> Switzerland <br> 88047 casi totali"
          }
         },
         "name": "Switzerland"
        },
        {
         "data": [
          {
           "coloraxis": "coloraxis",
           "geo": "geo",
           "hovertemplate": "<b>%{hovertext}</b><br><br>Countries=%{location}<br>2017=%{z}<extra></extra>",
           "hovertext": [
            "United Kingdom"
           ],
           "ids": [
            "United Kingdom"
           ],
           "locationmode": "country names",
           "locations": [
            "United Kingdom"
           ],
           "name": "",
           "type": "choropleth",
           "z": [
            225658
           ]
          }
         ],
         "layout": {
          "title": {
           "font": {
            "color": "black",
            "family": "Sherif",
            "size": 40
           },
           "text": " <br> Numeri di casi di incidenti da contatto sul lavoro a cause di oggetti e agenti materiali <br> United Kingdom <br> 225658 casi totali"
          }
         },
         "name": "United Kingdom"
        },
        {
         "data": [
          {
           "coloraxis": "coloraxis",
           "geo": "geo",
           "hovertemplate": "<b>%{hovertext}</b><br><br>Countries=%{location}<br>2017=%{z}<extra></extra>",
           "hovertext": [
            "Belgium",
            "Bulgaria",
            "Czechia",
            "Denmark",
            "Germany",
            "Estonia",
            "Ireland",
            "Greece",
            "Spain",
            "France",
            "Croatia",
            "Italy",
            "Latvia",
            "Lithuania",
            "Luxembourg",
            "Hungary",
            "Netherlands",
            "Austria",
            "Poland",
            "Portugal",
            "Romania",
            "Slovenia",
            "Slovakia",
            "Finland",
            "Sweden",
            "Iceland",
            "Norway",
            "Switzerland",
            "United Kingdom",
            "European Union - 27 countries (from 2020)"
           ],
           "locationmode": "country names",
           "locations": [
            "Belgium",
            "Bulgaria",
            "Czechia",
            "Denmark",
            "Germany",
            "Estonia",
            "Ireland",
            "Greece",
            "Spain",
            "France",
            "Croatia",
            "Italy",
            "Latvia",
            "Lithuania",
            "Luxembourg",
            "Hungary",
            "Netherlands",
            "Austria",
            "Poland",
            "Portugal",
            "Romania",
            "Slovenia",
            "Slovakia",
            "Finland",
            "Sweden",
            "Iceland",
            "Norway",
            "Switzerland",
            "United Kingdom",
            "European Union - 27 countries (from 2020)"
           ],
           "name": "",
           "type": "choropleth",
           "z": [
            70895,
            2230,
            45009,
            48842,
            878525,
            6279,
            22125,
            4223,
            453437,
            753156,
            14164,
            294161,
            1895,
            3977,
            6684,
            25470,
            93305,
            63993,
            84388,
            135488,
            4491,
            13288,
            10091,
            42025,
            36761,
            1307,
            10004,
            88047,
            225658,
            3118816
           ]
          }
         ],
         "layout": {
          "title": {
           "font": {
            "color": "black",
            "family": "Sherif",
            "size": 40
           },
           "text": " <br> Numeri di casi di incidenti da contatto sul lavoro a cause di oggetti e agenti materiali"
          }
         },
         "name": "Europe"
        }
       ],
       "layout": {
        "coloraxis": {
         "cmax": 700000,
         "cmin": 0,
         "colorbar": {
          "title": {
           "text": "Casi"
          }
         },
         "colorscale": [
          [
           0,
           "#30123b"
          ],
          [
           0.07142857142857142,
           "#4145ab"
          ],
          [
           0.14285714285714285,
           "#4675ed"
          ],
          [
           0.21428571428571427,
           "#39a2fc"
          ],
          [
           0.2857142857142857,
           "#1bcfd4"
          ],
          [
           0.35714285714285715,
           "#24eca6"
          ],
          [
           0.42857142857142855,
           "#61fc6c"
          ],
          [
           0.5,
           "#a4fc3b"
          ],
          [
           0.5714285714285714,
           "#d1e834"
          ],
          [
           0.6428571428571429,
           "#f3c63a"
          ],
          [
           0.7142857142857143,
           "#fe9b2d"
          ],
          [
           0.7857142857142857,
           "#f36315"
          ],
          [
           0.8571428571428571,
           "#d93806"
          ],
          [
           0.9285714285714286,
           "#b11901"
          ],
          [
           1,
           "#7a0402"
          ]
         ]
        },
        "geo": {
         "center": {},
         "domain": {
          "x": [
           0,
           1
          ],
          "y": [
           0,
           1
          ]
         },
         "scope": "europe"
        },
        "legend": {
         "tracegroupgap": 0
        },
        "margin": {
         "t": 60
        },
        "sliders": [
         {
          "active": 0,
          "currentvalue": {
           "prefix": "Countries="
          },
          "len": 0.9,
          "pad": {
           "b": 10,
           "t": 60
          },
          "steps": [
           {
            "args": [
             [
              "Belgium"
             ],
             {
              "frame": {
               "duration": 0,
               "redraw": true
              },
              "fromcurrent": true,
              "mode": "immediate",
              "transition": {
               "duration": 0,
               "easing": "linear"
              }
             }
            ],
            "label": "Belgium",
            "method": "animate"
           },
           {
            "args": [
             [
              "Bulgaria"
             ],
             {
              "frame": {
               "duration": 0,
               "redraw": true
              },
              "fromcurrent": true,
              "mode": "immediate",
              "transition": {
               "duration": 0,
               "easing": "linear"
              }
             }
            ],
            "label": "Bulgaria",
            "method": "animate"
           },
           {
            "args": [
             [
              "Czechia"
             ],
             {
              "frame": {
               "duration": 0,
               "redraw": true
              },
              "fromcurrent": true,
              "mode": "immediate",
              "transition": {
               "duration": 0,
               "easing": "linear"
              }
             }
            ],
            "label": "Czechia",
            "method": "animate"
           },
           {
            "args": [
             [
              "Denmark"
             ],
             {
              "frame": {
               "duration": 0,
               "redraw": true
              },
              "fromcurrent": true,
              "mode": "immediate",
              "transition": {
               "duration": 0,
               "easing": "linear"
              }
             }
            ],
            "label": "Denmark",
            "method": "animate"
           },
           {
            "args": [
             [
              "Germany"
             ],
             {
              "frame": {
               "duration": 0,
               "redraw": true
              },
              "fromcurrent": true,
              "mode": "immediate",
              "transition": {
               "duration": 0,
               "easing": "linear"
              }
             }
            ],
            "label": "Germany",
            "method": "animate"
           },
           {
            "args": [
             [
              "Estonia"
             ],
             {
              "frame": {
               "duration": 0,
               "redraw": true
              },
              "fromcurrent": true,
              "mode": "immediate",
              "transition": {
               "duration": 0,
               "easing": "linear"
              }
             }
            ],
            "label": "Estonia",
            "method": "animate"
           },
           {
            "args": [
             [
              "Ireland"
             ],
             {
              "frame": {
               "duration": 0,
               "redraw": true
              },
              "fromcurrent": true,
              "mode": "immediate",
              "transition": {
               "duration": 0,
               "easing": "linear"
              }
             }
            ],
            "label": "Ireland",
            "method": "animate"
           },
           {
            "args": [
             [
              "Greece"
             ],
             {
              "frame": {
               "duration": 0,
               "redraw": true
              },
              "fromcurrent": true,
              "mode": "immediate",
              "transition": {
               "duration": 0,
               "easing": "linear"
              }
             }
            ],
            "label": "Greece",
            "method": "animate"
           },
           {
            "args": [
             [
              "Spain"
             ],
             {
              "frame": {
               "duration": 0,
               "redraw": true
              },
              "fromcurrent": true,
              "mode": "immediate",
              "transition": {
               "duration": 0,
               "easing": "linear"
              }
             }
            ],
            "label": "Spain",
            "method": "animate"
           },
           {
            "args": [
             [
              "France"
             ],
             {
              "frame": {
               "duration": 0,
               "redraw": true
              },
              "fromcurrent": true,
              "mode": "immediate",
              "transition": {
               "duration": 0,
               "easing": "linear"
              }
             }
            ],
            "label": "France",
            "method": "animate"
           },
           {
            "args": [
             [
              "Croatia"
             ],
             {
              "frame": {
               "duration": 0,
               "redraw": true
              },
              "fromcurrent": true,
              "mode": "immediate",
              "transition": {
               "duration": 0,
               "easing": "linear"
              }
             }
            ],
            "label": "Croatia",
            "method": "animate"
           },
           {
            "args": [
             [
              "Italy"
             ],
             {
              "frame": {
               "duration": 0,
               "redraw": true
              },
              "fromcurrent": true,
              "mode": "immediate",
              "transition": {
               "duration": 0,
               "easing": "linear"
              }
             }
            ],
            "label": "Italy",
            "method": "animate"
           },
           {
            "args": [
             [
              "Latvia"
             ],
             {
              "frame": {
               "duration": 0,
               "redraw": true
              },
              "fromcurrent": true,
              "mode": "immediate",
              "transition": {
               "duration": 0,
               "easing": "linear"
              }
             }
            ],
            "label": "Latvia",
            "method": "animate"
           },
           {
            "args": [
             [
              "Lithuania"
             ],
             {
              "frame": {
               "duration": 0,
               "redraw": true
              },
              "fromcurrent": true,
              "mode": "immediate",
              "transition": {
               "duration": 0,
               "easing": "linear"
              }
             }
            ],
            "label": "Lithuania",
            "method": "animate"
           },
           {
            "args": [
             [
              "Luxembourg"
             ],
             {
              "frame": {
               "duration": 0,
               "redraw": true
              },
              "fromcurrent": true,
              "mode": "immediate",
              "transition": {
               "duration": 0,
               "easing": "linear"
              }
             }
            ],
            "label": "Luxembourg",
            "method": "animate"
           },
           {
            "args": [
             [
              "Hungary"
             ],
             {
              "frame": {
               "duration": 0,
               "redraw": true
              },
              "fromcurrent": true,
              "mode": "immediate",
              "transition": {
               "duration": 0,
               "easing": "linear"
              }
             }
            ],
            "label": "Hungary",
            "method": "animate"
           },
           {
            "args": [
             [
              "Netherlands"
             ],
             {
              "frame": {
               "duration": 0,
               "redraw": true
              },
              "fromcurrent": true,
              "mode": "immediate",
              "transition": {
               "duration": 0,
               "easing": "linear"
              }
             }
            ],
            "label": "Netherlands",
            "method": "animate"
           },
           {
            "args": [
             [
              "Austria"
             ],
             {
              "frame": {
               "duration": 0,
               "redraw": true
              },
              "fromcurrent": true,
              "mode": "immediate",
              "transition": {
               "duration": 0,
               "easing": "linear"
              }
             }
            ],
            "label": "Austria",
            "method": "animate"
           },
           {
            "args": [
             [
              "Poland"
             ],
             {
              "frame": {
               "duration": 0,
               "redraw": true
              },
              "fromcurrent": true,
              "mode": "immediate",
              "transition": {
               "duration": 0,
               "easing": "linear"
              }
             }
            ],
            "label": "Poland",
            "method": "animate"
           },
           {
            "args": [
             [
              "Portugal"
             ],
             {
              "frame": {
               "duration": 0,
               "redraw": true
              },
              "fromcurrent": true,
              "mode": "immediate",
              "transition": {
               "duration": 0,
               "easing": "linear"
              }
             }
            ],
            "label": "Portugal",
            "method": "animate"
           },
           {
            "args": [
             [
              "Romania"
             ],
             {
              "frame": {
               "duration": 0,
               "redraw": true
              },
              "fromcurrent": true,
              "mode": "immediate",
              "transition": {
               "duration": 0,
               "easing": "linear"
              }
             }
            ],
            "label": "Romania",
            "method": "animate"
           },
           {
            "args": [
             [
              "Slovenia"
             ],
             {
              "frame": {
               "duration": 0,
               "redraw": true
              },
              "fromcurrent": true,
              "mode": "immediate",
              "transition": {
               "duration": 0,
               "easing": "linear"
              }
             }
            ],
            "label": "Slovenia",
            "method": "animate"
           },
           {
            "args": [
             [
              "Slovakia"
             ],
             {
              "frame": {
               "duration": 0,
               "redraw": true
              },
              "fromcurrent": true,
              "mode": "immediate",
              "transition": {
               "duration": 0,
               "easing": "linear"
              }
             }
            ],
            "label": "Slovakia",
            "method": "animate"
           },
           {
            "args": [
             [
              "Finland"
             ],
             {
              "frame": {
               "duration": 0,
               "redraw": true
              },
              "fromcurrent": true,
              "mode": "immediate",
              "transition": {
               "duration": 0,
               "easing": "linear"
              }
             }
            ],
            "label": "Finland",
            "method": "animate"
           },
           {
            "args": [
             [
              "Sweden"
             ],
             {
              "frame": {
               "duration": 0,
               "redraw": true
              },
              "fromcurrent": true,
              "mode": "immediate",
              "transition": {
               "duration": 0,
               "easing": "linear"
              }
             }
            ],
            "label": "Sweden",
            "method": "animate"
           },
           {
            "args": [
             [
              "Iceland"
             ],
             {
              "frame": {
               "duration": 0,
               "redraw": true
              },
              "fromcurrent": true,
              "mode": "immediate",
              "transition": {
               "duration": 0,
               "easing": "linear"
              }
             }
            ],
            "label": "Iceland",
            "method": "animate"
           },
           {
            "args": [
             [
              "Norway"
             ],
             {
              "frame": {
               "duration": 0,
               "redraw": true
              },
              "fromcurrent": true,
              "mode": "immediate",
              "transition": {
               "duration": 0,
               "easing": "linear"
              }
             }
            ],
            "label": "Norway",
            "method": "animate"
           },
           {
            "args": [
             [
              "Switzerland"
             ],
             {
              "frame": {
               "duration": 0,
               "redraw": true
              },
              "fromcurrent": true,
              "mode": "immediate",
              "transition": {
               "duration": 0,
               "easing": "linear"
              }
             }
            ],
            "label": "Switzerland",
            "method": "animate"
           },
           {
            "args": [
             [
              "United Kingdom"
             ],
             {
              "frame": {
               "duration": 0,
               "redraw": true
              },
              "fromcurrent": true,
              "mode": "immediate",
              "transition": {
               "duration": 0,
               "easing": "linear"
              }
             }
            ],
            "label": "United Kingdom",
            "method": "animate"
           },
           {
            "args": [
             [
              "European Union - 27 countries (from 2020)"
             ],
             {
              "frame": {
               "duration": 0,
               "redraw": true
              },
              "fromcurrent": true,
              "mode": "immediate",
              "transition": {
               "duration": 0,
               "easing": "linear"
              }
             }
            ],
            "label": "European Union - 27 countries (from 2020)",
            "method": "animate"
           }
          ],
          "x": 0.1,
          "xanchor": "left",
          "y": 0,
          "yanchor": "top"
         }
        ],
        "template": {
         "data": {
          "bar": [
           {
            "error_x": {
             "color": "#2a3f5f"
            },
            "error_y": {
             "color": "#2a3f5f"
            },
            "marker": {
             "line": {
              "color": "#E5ECF6",
              "width": 0.5
             },
             "pattern": {
              "fillmode": "overlay",
              "size": 10,
              "solidity": 0.2
             }
            },
            "type": "bar"
           }
          ],
          "barpolar": [
           {
            "marker": {
             "line": {
              "color": "#E5ECF6",
              "width": 0.5
             },
             "pattern": {
              "fillmode": "overlay",
              "size": 10,
              "solidity": 0.2
             }
            },
            "type": "barpolar"
           }
          ],
          "carpet": [
           {
            "aaxis": {
             "endlinecolor": "#2a3f5f",
             "gridcolor": "white",
             "linecolor": "white",
             "minorgridcolor": "white",
             "startlinecolor": "#2a3f5f"
            },
            "baxis": {
             "endlinecolor": "#2a3f5f",
             "gridcolor": "white",
             "linecolor": "white",
             "minorgridcolor": "white",
             "startlinecolor": "#2a3f5f"
            },
            "type": "carpet"
           }
          ],
          "choropleth": [
           {
            "colorbar": {
             "outlinewidth": 0,
             "ticks": ""
            },
            "type": "choropleth"
           }
          ],
          "contour": [
           {
            "colorbar": {
             "outlinewidth": 0,
             "ticks": ""
            },
            "colorscale": [
             [
              0,
              "#0d0887"
             ],
             [
              0.1111111111111111,
              "#46039f"
             ],
             [
              0.2222222222222222,
              "#7201a8"
             ],
             [
              0.3333333333333333,
              "#9c179e"
             ],
             [
              0.4444444444444444,
              "#bd3786"
             ],
             [
              0.5555555555555556,
              "#d8576b"
             ],
             [
              0.6666666666666666,
              "#ed7953"
             ],
             [
              0.7777777777777778,
              "#fb9f3a"
             ],
             [
              0.8888888888888888,
              "#fdca26"
             ],
             [
              1,
              "#f0f921"
             ]
            ],
            "type": "contour"
           }
          ],
          "contourcarpet": [
           {
            "colorbar": {
             "outlinewidth": 0,
             "ticks": ""
            },
            "type": "contourcarpet"
           }
          ],
          "heatmap": [
           {
            "colorbar": {
             "outlinewidth": 0,
             "ticks": ""
            },
            "colorscale": [
             [
              0,
              "#0d0887"
             ],
             [
              0.1111111111111111,
              "#46039f"
             ],
             [
              0.2222222222222222,
              "#7201a8"
             ],
             [
              0.3333333333333333,
              "#9c179e"
             ],
             [
              0.4444444444444444,
              "#bd3786"
             ],
             [
              0.5555555555555556,
              "#d8576b"
             ],
             [
              0.6666666666666666,
              "#ed7953"
             ],
             [
              0.7777777777777778,
              "#fb9f3a"
             ],
             [
              0.8888888888888888,
              "#fdca26"
             ],
             [
              1,
              "#f0f921"
             ]
            ],
            "type": "heatmap"
           }
          ],
          "heatmapgl": [
           {
            "colorbar": {
             "outlinewidth": 0,
             "ticks": ""
            },
            "colorscale": [
             [
              0,
              "#0d0887"
             ],
             [
              0.1111111111111111,
              "#46039f"
             ],
             [
              0.2222222222222222,
              "#7201a8"
             ],
             [
              0.3333333333333333,
              "#9c179e"
             ],
             [
              0.4444444444444444,
              "#bd3786"
             ],
             [
              0.5555555555555556,
              "#d8576b"
             ],
             [
              0.6666666666666666,
              "#ed7953"
             ],
             [
              0.7777777777777778,
              "#fb9f3a"
             ],
             [
              0.8888888888888888,
              "#fdca26"
             ],
             [
              1,
              "#f0f921"
             ]
            ],
            "type": "heatmapgl"
           }
          ],
          "histogram": [
           {
            "marker": {
             "pattern": {
              "fillmode": "overlay",
              "size": 10,
              "solidity": 0.2
             }
            },
            "type": "histogram"
           }
          ],
          "histogram2d": [
           {
            "colorbar": {
             "outlinewidth": 0,
             "ticks": ""
            },
            "colorscale": [
             [
              0,
              "#0d0887"
             ],
             [
              0.1111111111111111,
              "#46039f"
             ],
             [
              0.2222222222222222,
              "#7201a8"
             ],
             [
              0.3333333333333333,
              "#9c179e"
             ],
             [
              0.4444444444444444,
              "#bd3786"
             ],
             [
              0.5555555555555556,
              "#d8576b"
             ],
             [
              0.6666666666666666,
              "#ed7953"
             ],
             [
              0.7777777777777778,
              "#fb9f3a"
             ],
             [
              0.8888888888888888,
              "#fdca26"
             ],
             [
              1,
              "#f0f921"
             ]
            ],
            "type": "histogram2d"
           }
          ],
          "histogram2dcontour": [
           {
            "colorbar": {
             "outlinewidth": 0,
             "ticks": ""
            },
            "colorscale": [
             [
              0,
              "#0d0887"
             ],
             [
              0.1111111111111111,
              "#46039f"
             ],
             [
              0.2222222222222222,
              "#7201a8"
             ],
             [
              0.3333333333333333,
              "#9c179e"
             ],
             [
              0.4444444444444444,
              "#bd3786"
             ],
             [
              0.5555555555555556,
              "#d8576b"
             ],
             [
              0.6666666666666666,
              "#ed7953"
             ],
             [
              0.7777777777777778,
              "#fb9f3a"
             ],
             [
              0.8888888888888888,
              "#fdca26"
             ],
             [
              1,
              "#f0f921"
             ]
            ],
            "type": "histogram2dcontour"
           }
          ],
          "mesh3d": [
           {
            "colorbar": {
             "outlinewidth": 0,
             "ticks": ""
            },
            "type": "mesh3d"
           }
          ],
          "parcoords": [
           {
            "line": {
             "colorbar": {
              "outlinewidth": 0,
              "ticks": ""
             }
            },
            "type": "parcoords"
           }
          ],
          "pie": [
           {
            "automargin": true,
            "type": "pie"
           }
          ],
          "scatter": [
           {
            "fillpattern": {
             "fillmode": "overlay",
             "size": 10,
             "solidity": 0.2
            },
            "type": "scatter"
           }
          ],
          "scatter3d": [
           {
            "line": {
             "colorbar": {
              "outlinewidth": 0,
              "ticks": ""
             }
            },
            "marker": {
             "colorbar": {
              "outlinewidth": 0,
              "ticks": ""
             }
            },
            "type": "scatter3d"
           }
          ],
          "scattercarpet": [
           {
            "marker": {
             "colorbar": {
              "outlinewidth": 0,
              "ticks": ""
             }
            },
            "type": "scattercarpet"
           }
          ],
          "scattergeo": [
           {
            "marker": {
             "colorbar": {
              "outlinewidth": 0,
              "ticks": ""
             }
            },
            "type": "scattergeo"
           }
          ],
          "scattergl": [
           {
            "marker": {
             "colorbar": {
              "outlinewidth": 0,
              "ticks": ""
             }
            },
            "type": "scattergl"
           }
          ],
          "scattermapbox": [
           {
            "marker": {
             "colorbar": {
              "outlinewidth": 0,
              "ticks": ""
             }
            },
            "type": "scattermapbox"
           }
          ],
          "scatterpolar": [
           {
            "marker": {
             "colorbar": {
              "outlinewidth": 0,
              "ticks": ""
             }
            },
            "type": "scatterpolar"
           }
          ],
          "scatterpolargl": [
           {
            "marker": {
             "colorbar": {
              "outlinewidth": 0,
              "ticks": ""
             }
            },
            "type": "scatterpolargl"
           }
          ],
          "scatterternary": [
           {
            "marker": {
             "colorbar": {
              "outlinewidth": 0,
              "ticks": ""
             }
            },
            "type": "scatterternary"
           }
          ],
          "surface": [
           {
            "colorbar": {
             "outlinewidth": 0,
             "ticks": ""
            },
            "colorscale": [
             [
              0,
              "#0d0887"
             ],
             [
              0.1111111111111111,
              "#46039f"
             ],
             [
              0.2222222222222222,
              "#7201a8"
             ],
             [
              0.3333333333333333,
              "#9c179e"
             ],
             [
              0.4444444444444444,
              "#bd3786"
             ],
             [
              0.5555555555555556,
              "#d8576b"
             ],
             [
              0.6666666666666666,
              "#ed7953"
             ],
             [
              0.7777777777777778,
              "#fb9f3a"
             ],
             [
              0.8888888888888888,
              "#fdca26"
             ],
             [
              1,
              "#f0f921"
             ]
            ],
            "type": "surface"
           }
          ],
          "table": [
           {
            "cells": {
             "fill": {
              "color": "#EBF0F8"
             },
             "line": {
              "color": "white"
             }
            },
            "header": {
             "fill": {
              "color": "#C8D4E3"
             },
             "line": {
              "color": "white"
             }
            },
            "type": "table"
           }
          ]
         },
         "layout": {
          "annotationdefaults": {
           "arrowcolor": "#2a3f5f",
           "arrowhead": 0,
           "arrowwidth": 1
          },
          "autotypenumbers": "strict",
          "coloraxis": {
           "colorbar": {
            "outlinewidth": 0,
            "ticks": ""
           }
          },
          "colorscale": {
           "diverging": [
            [
             0,
             "#8e0152"
            ],
            [
             0.1,
             "#c51b7d"
            ],
            [
             0.2,
             "#de77ae"
            ],
            [
             0.3,
             "#f1b6da"
            ],
            [
             0.4,
             "#fde0ef"
            ],
            [
             0.5,
             "#f7f7f7"
            ],
            [
             0.6,
             "#e6f5d0"
            ],
            [
             0.7,
             "#b8e186"
            ],
            [
             0.8,
             "#7fbc41"
            ],
            [
             0.9,
             "#4d9221"
            ],
            [
             1,
             "#276419"
            ]
           ],
           "sequential": [
            [
             0,
             "#0d0887"
            ],
            [
             0.1111111111111111,
             "#46039f"
            ],
            [
             0.2222222222222222,
             "#7201a8"
            ],
            [
             0.3333333333333333,
             "#9c179e"
            ],
            [
             0.4444444444444444,
             "#bd3786"
            ],
            [
             0.5555555555555556,
             "#d8576b"
            ],
            [
             0.6666666666666666,
             "#ed7953"
            ],
            [
             0.7777777777777778,
             "#fb9f3a"
            ],
            [
             0.8888888888888888,
             "#fdca26"
            ],
            [
             1,
             "#f0f921"
            ]
           ],
           "sequentialminus": [
            [
             0,
             "#0d0887"
            ],
            [
             0.1111111111111111,
             "#46039f"
            ],
            [
             0.2222222222222222,
             "#7201a8"
            ],
            [
             0.3333333333333333,
             "#9c179e"
            ],
            [
             0.4444444444444444,
             "#bd3786"
            ],
            [
             0.5555555555555556,
             "#d8576b"
            ],
            [
             0.6666666666666666,
             "#ed7953"
            ],
            [
             0.7777777777777778,
             "#fb9f3a"
            ],
            [
             0.8888888888888888,
             "#fdca26"
            ],
            [
             1,
             "#f0f921"
            ]
           ]
          },
          "colorway": [
           "#636efa",
           "#EF553B",
           "#00cc96",
           "#ab63fa",
           "#FFA15A",
           "#19d3f3",
           "#FF6692",
           "#B6E880",
           "#FF97FF",
           "#FECB52"
          ],
          "font": {
           "color": "#2a3f5f"
          },
          "geo": {
           "bgcolor": "white",
           "lakecolor": "white",
           "landcolor": "#E5ECF6",
           "showlakes": true,
           "showland": true,
           "subunitcolor": "white"
          },
          "hoverlabel": {
           "align": "left"
          },
          "hovermode": "closest",
          "mapbox": {
           "style": "light"
          },
          "paper_bgcolor": "white",
          "plot_bgcolor": "#E5ECF6",
          "polar": {
           "angularaxis": {
            "gridcolor": "white",
            "linecolor": "white",
            "ticks": ""
           },
           "bgcolor": "#E5ECF6",
           "radialaxis": {
            "gridcolor": "white",
            "linecolor": "white",
            "ticks": ""
           }
          },
          "scene": {
           "xaxis": {
            "backgroundcolor": "#E5ECF6",
            "gridcolor": "white",
            "gridwidth": 2,
            "linecolor": "white",
            "showbackground": true,
            "ticks": "",
            "zerolinecolor": "white"
           },
           "yaxis": {
            "backgroundcolor": "#E5ECF6",
            "gridcolor": "white",
            "gridwidth": 2,
            "linecolor": "white",
            "showbackground": true,
            "ticks": "",
            "zerolinecolor": "white"
           },
           "zaxis": {
            "backgroundcolor": "#E5ECF6",
            "gridcolor": "white",
            "gridwidth": 2,
            "linecolor": "white",
            "showbackground": true,
            "ticks": "",
            "zerolinecolor": "white"
           }
          },
          "shapedefaults": {
           "line": {
            "color": "#2a3f5f"
           }
          },
          "ternary": {
           "aaxis": {
            "gridcolor": "white",
            "linecolor": "white",
            "ticks": ""
           },
           "baxis": {
            "gridcolor": "white",
            "linecolor": "white",
            "ticks": ""
           },
           "bgcolor": "#E5ECF6",
           "caxis": {
            "gridcolor": "white",
            "linecolor": "white",
            "ticks": ""
           }
          },
          "title": {
           "x": 0.05
          },
          "xaxis": {
           "automargin": true,
           "gridcolor": "white",
           "linecolor": "white",
           "ticks": "",
           "title": {
            "standoff": 15
           },
           "zerolinecolor": "white",
           "zerolinewidth": 2
          },
          "yaxis": {
           "automargin": true,
           "gridcolor": "white",
           "linecolor": "white",
           "ticks": "",
           "title": {
            "standoff": 15
           },
           "zerolinecolor": "white",
           "zerolinewidth": 2
          }
         }
        },
        "updatemenus": [
         {
          "buttons": [
           {
            "args": [
             null,
             {
              "frame": {
               "duration": 2000,
               "redraw": true
              },
              "fromcurrent": true,
              "mode": "immediate",
              "transition": {
               "duration": 500,
               "easing": "linear"
              }
             }
            ],
            "label": "&#9654;",
            "method": "animate"
           },
           {
            "args": [
             [
              null
             ],
             {
              "frame": {
               "duration": 0,
               "redraw": true
              },
              "fromcurrent": true,
              "mode": "immediate",
              "transition": {
               "duration": 0,
               "easing": "linear"
              }
             }
            ],
            "label": "&#9724;",
            "method": "animate"
           }
          ],
          "direction": "left",
          "pad": {
           "r": 10,
           "t": 70
          },
          "showactive": false,
          "type": "buttons",
          "x": 0.1,
          "xanchor": "right",
          "y": 0,
          "yanchor": "top"
         }
        ]
       }
      }
     },
     "metadata": {},
     "output_type": "display_data"
    }
   ],
   "source": [
    "import pandas as pd\n",
    "import plotly.express as px\n",
    "\n",
    "dataGraph1 = pd.read_csv(\"./dati.csv\", usecols=[\"Countries\", \"2017\"],  skiprows=[2,3,16,21])\n",
    "indexes = []\n",
    "arrCountry = dataGraph1[\"Countries\"].values\n",
    "\n",
    "#Inverto il primo elemento con l'ultimo\n",
    "for i in range(len(arrCountry)):\n",
    "    indexes.append(i+1)\n",
    "\n",
    "indexes[len(arrCountry)-1] = 0\n",
    "\n",
    "print(indexes)\n",
    "dataGraph1 = pd.DataFrame.reindex(dataGraph1, indexes)\n",
    "\n",
    "arrCountry = dataGraph1[\"Countries\"].values\n",
    "arrData = dataGraph1[\"2017\"].values\n",
    "print(arrCountry)\n",
    "\n",
    "\n",
    "figFinal = px.choropleth(dataGraph1, locations='Countries', color=\"2017\",\n",
    "                    locationmode=\"country names\", hover_name=\"Countries\", color_continuous_scale='Turbo',\n",
    "                    scope=\"europe\")\n",
    "figFinal.update_layout(coloraxis=dict(cmax=700000, cmin=0))\n",
    "\n",
    "fig = px.choropleth(dataGraph1, locations='Countries', color=\"2017\",\n",
    "                    locationmode=\"country names\", hover_name=\"Countries\", color_continuous_scale='Turbo',\n",
    "                    animation_frame=\"Countries\", animation_group=\"Countries\", scope=\"europe\")\n",
    "fig.layout.updatemenus[0].buttons[0].args[1][\"frame\"][\"duration\"] = 2000\n",
    "fig.update_layout(coloraxis=dict(cmax=700000, cmin=0))\n",
    "\n",
    "#Ad ogni frame inserisco come titolo il nome della nazione e il numero di feriti\n",
    "for k in range(len(fig.frames)):\n",
    "    fig.frames[k]['layout'].update  ( title =  dict(text =f' <br> Numeri di casi di incidenti da contatto sul lavoro a cause di oggetti e agenti materiali <br> {arrCountry[k]} <br> {arrData[k]} casi totali',\n",
    "                                    font =dict  (\n",
    "                                                family='Sherif',\n",
    "                                                size=40,\n",
    "                                                color = 'black'\n",
    "                                                )\n",
    "                                                )\n",
    "                                    )\n",
    "    #creazione dell'ultimo frame\n",
    "    if k == (len(fig.frames))-1:\n",
    "        fig.frames[k]['data'] = (figFinal.data)\n",
    "        fig.frames[k]['layout'].update( title =  dict(text =f' <br> Numeri di casi di incidenti da contatto sul lavoro a cause di oggetti e agenti materiali',\n",
    "                                    font =dict  (\n",
    "                                                family='Sherif',\n",
    "                                                size=40,\n",
    "                                                color = 'black'\n",
    "                                                )\n",
    "                                                )\n",
    "                                    )\n",
    "        fig.frames[k]['name'] = (\"Europe\")\n",
    "\n",
    "fig.layout.coloraxis.colorbar.title = \"Casi\"\n",
    "fig.show()"
   ]
  }
 ],
 "metadata": {
  "kernelspec": {
   "display_name": ".venv",
   "language": "python",
   "name": "python3"
  },
  "language_info": {
   "codemirror_mode": {
    "name": "ipython",
    "version": 3
   },
   "file_extension": ".py",
   "mimetype": "text/x-python",
   "name": "python",
   "nbconvert_exporter": "python",
   "pygments_lexer": "ipython3",
   "version": "3.9.1"
  },
  "orig_nbformat": 4
 },
 "nbformat": 4,
 "nbformat_minor": 2
}
